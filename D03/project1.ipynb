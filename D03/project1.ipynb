{
 "cells": [
  {
   "cell_type": "code",
   "execution_count": 139,
   "id": "4ffb6e89",
   "metadata": {},
   "outputs": [],
   "source": [
    "class SlottedStruct(type):\n",
    "    @classmethod\n",
    "    def _eq(cls, obj1, obj2):\n",
    "        obj1_dim = len(obj1.__slots__)\n",
    "        obj2_dim = len(obj2.__slots__)\n",
    "        if obj1_dim != obj2_dim:\n",
    "            return False\n",
    "\n",
    "        obj1_coord = obj1.__slots__\n",
    "        obj2_coord = obj2.__slots__\n",
    "        return tuple(getattr(obj1, obj1_coord[i]) for i in range(obj1_dim)) == tuple(getattr(obj2, obj2_coord[i]) for i in range(obj2_dim))\n",
    "\n",
    "    @classmethod\n",
    "    def _hash(cls, obj):\n",
    "        obj_dim = len(obj.__slots__)\n",
    "        obj_coord = obj.__slots__\n",
    "        return hash(tuple(getattr(obj, obj_coord[i]) for i in range(obj_dim)))\n",
    "\n",
    "    @classmethod\n",
    "    def _repr(cls, obj):\n",
    "        obj_dim = len(obj.__slots__)\n",
    "        obj_coord = obj.__slots__\n",
    "        return f'Point{obj_dim}D{tuple(getattr(obj, obj_coord[i]) for i in range(obj_dim))}'\n",
    "\n",
    "    @classmethod\n",
    "    def _str(cls, obj):\n",
    "        obj_dim = len(obj.__slots__)\n",
    "        obj_coord = obj.__slots__\n",
    "        return f'{tuple(getattr(obj, obj_coord[i]) for i in range(obj_dim))}'\n",
    "\n",
    "    def __new__(cls, name, bases, attrs):\n",
    "        klass = super().__new__(cls, name, bases, attrs)\n",
    "        if klass.__name__ != 'Point':\n",
    "            attrs['__eq__'] = lambda self, other: cls._eq(self, other)\n",
    "            attrs['__hash__'] = lambda self: cls._hash(self)\n",
    "            attrs['__repr__'] = lambda self: cls._repr(self)\n",
    "            attrs['__str__'] = lambda self: cls._str(self)\n",
    "        return super().__new__(cls, name, bases, attrs)\n",
    "    \n",
    "class Point(metaclass=SlottedStruct):\n",
    "     pass\n",
    "    \n",
    "class Point2D(Point):\n",
    "    __slots__ = ('_x', '_y')\n",
    "    \n",
    "    def __init__(self, x, y):\n",
    "        self._x = x\n",
    "        self._y = y\n",
    "        \n",
    "class Point3D(Point):\n",
    "    __slots__ = ('_x', '_y', '_z')\n",
    "    \n",
    "    def __init__(self, x, y, z):\n",
    "        self._x = x\n",
    "        self._y = y\n",
    "        self._z = z\n"
   ]
  },
  {
   "cell_type": "code",
   "execution_count": null,
   "id": "ad5f4a7a",
   "metadata": {},
   "outputs": [],
   "source": []
  }
 ],
 "metadata": {
  "kernelspec": {
   "display_name": "Python 3 (ipykernel)",
   "language": "python",
   "name": "python3"
  },
  "language_info": {
   "codemirror_mode": {
    "name": "ipython",
    "version": 3
   },
   "file_extension": ".py",
   "mimetype": "text/x-python",
   "name": "python",
   "nbconvert_exporter": "python",
   "pygments_lexer": "ipython3",
   "version": "3.10.9"
  }
 },
 "nbformat": 4,
 "nbformat_minor": 5
}
