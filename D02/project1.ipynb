{
 "cells": [
  {
   "cell_type": "code",
   "execution_count": 5,
   "id": "2e0c6a06",
   "metadata": {},
   "outputs": [],
   "source": [
    "class ValidType:\n",
    "    def __init__(self, objtype):\n",
    "        self.type = objtype\n",
    "        \n",
    "    def __set_name__(self, owner, name):\n",
    "        self.name = name\n",
    "\n",
    "    def __get__(self, instance, owner):\n",
    "        return instance.__dict__[self.name]\n",
    "\n",
    "    def __set__(self, instance, value):\n",
    "        if not isinstance(value, self.type):\n",
    "            raise ValueError(f\"The value must be of type {self.type}\")\n",
    "        instance.__dict__[self.name] = value\n",
    "\n",
    "\n",
    "class String(ValidType):\n",
    "    def __init__(self):\n",
    "        super().__init__(str)\n",
    "        \n",
    "class Integer(ValidType):\n",
    "    def __init__(self):\n",
    "        super().__init__(int)\n",
    "        \n",
    "class Float(ValidType):\n",
    "    def __init__(self):\n",
    "        super().__init__(float)\n",
    "        \n",
    "class List(ValidType):\n",
    "    def __init__(self):\n",
    "        super().__init__(list)\n",
    "\n",
    "class Person:\n",
    "    def __init__(self, age, height, tags, favorite_foods, name):\n",
    "        self.age = age\n",
    "        self.height = height\n",
    "        self.tags = tags\n",
    "        self.favorite_foods = favorite_foods\n",
    "        self.name = name\n",
    "        \n",
    "    age = Integer()\n",
    "    height = Float()\n",
    "    tags = List()\n",
    "    favorite_foods = List()\n",
    "    name = String()\n",
    "    "
   ]
  }
 ],
 "metadata": {
  "kernelspec": {
   "display_name": "Python 3 (ipykernel)",
   "language": "python",
   "name": "python3"
  },
  "language_info": {
   "codemirror_mode": {
    "name": "ipython",
    "version": 3
   },
   "file_extension": ".py",
   "mimetype": "text/x-python",
   "name": "python",
   "nbconvert_exporter": "python",
   "pygments_lexer": "ipython3",
   "version": "3.10.9"
  }
 },
 "nbformat": 4,
 "nbformat_minor": 5
}
