{
 "cells": [
  {
   "cell_type": "markdown",
   "id": "b66768c9",
   "metadata": {},
   "source": [
    "The application focuses on implementing a Polygon class that represents a polygon shape with a sequence of vertices. The goal is to ensure that the vertices attribute of the Polygon class contains a sequence of Point2D instances, where each point represents a coordinate on a 2D plane. To achieve this, the code defines several descriptor and validator classes.\n",
    "\n",
    "Input and Output examples\n",
    "\n",
    "    `Int` class: This descriptor is responsible for validating that integer values assigned to attributes fall within specified bounds. It includes a min_value and max_value parameter to define the valid range for the attribute.\n",
    "    `Point2D` class: This class represents a point on a 2D plane. It includes x and y attributes, which are instances of the Int descriptor class with specific bounds. The Point2D class ensures that the assigned values for x and y are non-negative integers within the defined range.\n",
    "    `Point2DSequence` class: This validator class ensures that the assigned value for the vertices attribute in the Polygon class is a sequence (mutable or immutable) and that each element in the sequence is an instance of the Point2D class. It includes min_length and max_length parameters to define the minimum and maximum number of vertices for a polygon.\n",
    "    `Polygon` class: This class represents a polygon shape. It includes the vertices attribute, which is assigned an instance of the Point2DSequence validator class. The Polygon class constructor takes variable arguments as vertices, and the assigned values are validated by the Point2DSequence validator to ensure they meet the requirements of a polygon.\n",
    "    The Polygon class also includes an append method, allowing additional Point2D instances to be appended to the vertices list if the maximum length limit has not been reached.\n",
    "    Overall, this application provides a way to define a polygon shape with validated vertices using the Polygon class and ensures that the assigned values meet the required criteria."
   ]
  },
  {
   "cell_type": "code",
   "execution_count": null,
   "id": "ded20df1",
   "metadata": {},
   "outputs": [],
   "source": [
    "class Int:\n",
    "    def __init__(self, x, y):\n",
    "        self.x = x\n",
    "        self.y = y\n",
    "        \n",
    "    @classmethod\n",
    "    def validation(cls, min_value, max_value):\n",
    "        if not (isinstance(int, self.x) or isinstance(int, self.x)):\n",
    "            raise ValueError(f\"The value must be of type int\")\n",
    "        elif not (self,min_value < self.x < self.max_value):\n",
    "            raise \n",
    "\n",
    "    def __set_name__(self, owner, name):\n",
    "        self.name = name\n",
    "\n",
    "    def __get__(self, instance, owner):\n",
    "        return instance.__dict__[self.name]\n",
    "\n",
    "    def __set__(self, instance, value):\n",
    "        self.validate(value)\n",
    "        instance.__dict__[self.name] = value"
   ]
  }
 ],
 "metadata": {
  "kernelspec": {
   "display_name": "Python 3 (ipykernel)",
   "language": "python",
   "name": "python3"
  },
  "language_info": {
   "codemirror_mode": {
    "name": "ipython",
    "version": 3
   },
   "file_extension": ".py",
   "mimetype": "text/x-python",
   "name": "python",
   "nbconvert_exporter": "python",
   "pygments_lexer": "ipython3",
   "version": "3.10.9"
  }
 },
 "nbformat": 4,
 "nbformat_minor": 5
}
