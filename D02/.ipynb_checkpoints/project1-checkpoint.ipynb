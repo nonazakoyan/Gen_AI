{
 "cells": [
  {
   "cell_type": "code",
   "execution_count": 20,
   "id": "2e0c6a06",
   "metadata": {},
   "outputs": [],
   "source": [
    "class ValidType:\n",
    "    def __init__(self, name, objtype):\n",
    "        self.name = name\n",
    "        self.type = objtype\n",
    "\n",
    "    def __get__(self, instance, owner):\n",
    "        return instance.__dict__[self.name]\n",
    "\n",
    "    def __set__(self, instance, value):\n",
    "        if not isinstance(value, self.type):\n",
    "            raise ValueError(f\"The value must be of type {self.type}\")\n",
    "        instance.__dict__[self.name] = value\n",
    "\n",
    "class String(ValidType):\n",
    "    def __init__(self, obj, objtype):\n",
    "        super().__init__(obj, objtype)\n",
    "\n",
    "class Integer(ValidType):\n",
    "    def __init__(self, obj, objtype):\n",
    "        super().__init__(obj, objtype)\n",
    "\n",
    "class Float(ValidType):\n",
    "    def __init__(self, obj, objtype):\n",
    "        super().__init__(obj, objtype)\n",
    "\n",
    "class List(ValidType):\n",
    "    def __init__(self, obj, objtype):\n",
    "        super().__init__(obj, objtype)\n",
    "\n",
    "class Person:\n",
    "    def __init__(self, age, height, tags, favorite_foods, name):\n",
    "        self.age = age\n",
    "        self.height = height\n",
    "        self.tags = tags\n",
    "        self.favorite_foods = favorite_foods\n",
    "        self.name = name\n",
    "        \n",
    "    age = Integer('age', int)\n",
    "    height = Float('height', float)\n",
    "    tags = List('tags',list)\n",
    "    favorite_foods = List('favorite_foods', list)\n",
    "    name = String('name', str)"
   ]
  }
 ],
 "metadata": {
  "kernelspec": {
   "display_name": "Python 3 (ipykernel)",
   "language": "python",
   "name": "python3"
  },
  "language_info": {
   "codemirror_mode": {
    "name": "ipython",
    "version": 3
   },
   "file_extension": ".py",
   "mimetype": "text/x-python",
   "name": "python",
   "nbconvert_exporter": "python",
   "pygments_lexer": "ipython3",
   "version": "3.10.9"
  }
 },
 "nbformat": 4,
 "nbformat_minor": 5
}
